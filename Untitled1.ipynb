{
 "cells": [
  {
   "cell_type": "code",
   "execution_count": 1,
   "id": "5144fb4e",
   "metadata": {},
   "outputs": [],
   "source": [
    "!pip -q install opendatasets"
   ]
  },
  {
   "cell_type": "code",
   "execution_count": 11,
   "id": "dd7b2199",
   "metadata": {},
   "outputs": [],
   "source": [
    "import pandas as pd \n",
    "import opendatasets as od \n",
    "import os "
   ]
  },
  {
   "cell_type": "code",
   "execution_count": 12,
   "id": "18543b82",
   "metadata": {},
   "outputs": [
    {
     "data": {
      "text/plain": [
       "'0.1.22'"
      ]
     },
     "execution_count": 12,
     "metadata": {},
     "output_type": "execute_result"
    }
   ],
   "source": [
    "od.version()"
   ]
  },
  {
   "cell_type": "code",
   "execution_count": 13,
   "id": "9f03bf3a",
   "metadata": {},
   "outputs": [],
   "source": [
    "dataset_Url=\"https://www.kaggle.com/datasets/jsphyg/weather-dataset-rattle-package\""
   ]
  },
  {
   "cell_type": "code",
   "execution_count": 14,
   "id": "c34e31b9",
   "metadata": {},
   "outputs": [
    {
     "name": "stdout",
     "output_type": "stream",
     "text": [
      "Skipping, found downloaded files in \".\\weather-dataset-rattle-package\" (use force=True to force download)\n"
     ]
    }
   ],
   "source": [
    "od.download(dataset_Url)"
   ]
  }
 ],
 "metadata": {
  "kernelspec": {
   "display_name": "Python 3 (ipykernel)",
   "language": "python",
   "name": "python3"
  },
  "language_info": {
   "codemirror_mode": {
    "name": "ipython",
    "version": 3
   },
   "file_extension": ".py",
   "mimetype": "text/x-python",
   "name": "python",
   "nbconvert_exporter": "python",
   "pygments_lexer": "ipython3",
   "version": "3.9.13"
  }
 },
 "nbformat": 4,
 "nbformat_minor": 5
}
